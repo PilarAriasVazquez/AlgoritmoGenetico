{
  "cells": [
    {
      "cell_type": "markdown",
      "id": "19392a57-ec33-4623-ba0f-1ff5a0a771ef",
      "metadata": {
        "tags": [],
        "id": "19392a57-ec33-4623-ba0f-1ff5a0a771ef"
      },
      "source": [
        "## Algoritmos Genéticos ----------------------------------"
      ]
    },
    {
      "cell_type": "markdown",
      "id": "61524831-6b85-4ce3-9118-90c12c8e909b",
      "metadata": {
        "id": "61524831-6b85-4ce3-9118-90c12c8e909b"
      },
      "source": [
        "* Técnicas de **optimización metaherísticas**, **estocásticas** o **probabilísticas** (Holland-1962-1965-1992 y Goldberg-2006)\n",
        "* **Computacionalmente intensivos** de ahí el tiempo que pasó desde su propuesta en 1962 hasta su aplicación en problemas de ingeniería reales (1992)\n",
        "* Realiza una **búsqueda guiada** a partir de un conjunto inicial de posibles soluciones (**Población Inicial**) y va **evolucionando** a mejor en cada iteración del algoritmo (**generaciones**)\n",
        "* Normalmente, las últimas generaciones contienen la mejor o las mejores soluciones al problema de optimización\n",
        "* Cada **posible solución** se conoce como **individuo** y cada individuo **codifica** las variables independientes del problema de optimización. Estas variables representan los **genes** de la cadena **cromosomática** que representa a cada individuo\n",
        "* Las **modificaciones genéticas** que hacen que los individuos se **adapten** mejor al medio, tienen **mayor probabilidad de perdurar en el tiempo**\n",
        "* La **adaptación al medio** se realiza mediante la **función que queremos optimizar** (**función objetivo**, **función de evaluación** o **fitness function**). Llamaremos **fitness** a la **calidad** o **desempeño** de un individuo\n",
        "* Pasar de un problema de **maximización** a uno de **minimización** es tan sencillo como **multiplicar** por **-1** el **resultado de la función objetivo**\n",
        "* En cada iteración, **nuevos individuos** (**descendientes** u **offsprings**) son creados mediante **operaciones genéticas** dando lugar a nuevas poblaciones\n",
        "* Operaciones genéticas: **Selección**, **Cruce** y **Mutación**\n"
      ]
    },
    {
      "cell_type": "markdown",
      "id": "94b00b50-5120-44a9-baf7-95e5e36a7b7a",
      "metadata": {
        "id": "94b00b50-5120-44a9-baf7-95e5e36a7b7a"
      },
      "source": [
        "### ¿Porqué decidimos usar una **optimización metaheurística** (**no** garantizan la obtención de una solución óptima) en lugar de un **método exacto** (garantizan la obtención de una solución óptima)?"
      ]
    },
    {
      "cell_type": "markdown",
      "id": "a886c8c2-1e8d-473b-aa59-e5d6131927ec",
      "metadata": {
        "id": "a886c8c2-1e8d-473b-aa59-e5d6131927ec"
      },
      "source": [
        "No es una pregunta fácil de responder. Se usa para problemas de **gran complejidad**:\n",
        "* Gran **cantidad** de **variables**\n",
        "* Gran **complejidad** de las **ecuaciones**\n",
        "* Nos llegamos a preguntar si el problema tendrá solución\n",
        "\n",
        "No siempre podemos encontrar un método exacto que permita resolver nuestro problema, y si lo hay, es posible que su **aplicación** **no** sea **viable** para un problema de cierta complejidad por el **tiempo** de **resolución** o **consumo** de **recursos**. (Una búsqueda extensiva para un problema combinatorio de algunos cientos de variables, puede tardar meses o años)\n",
        "\n",
        "Además, las estratégias de **resolución analíticas**, como los **métodos basados en el gradiente** , pueden **converger a óptimos locales** y no alcanzar el óptimo global del problema"
      ]
    },
    {
      "cell_type": "markdown",
      "id": "5badb8c5-939d-4ecb-acca-84766a0509aa",
      "metadata": {
        "id": "5badb8c5-939d-4ecb-acca-84766a0509aa"
      },
      "source": [
        "### Cómo decidir la estrategia para abordar un problema\n",
        "1. **Cómo de grande es mi problema**: Estimar tiempo de una búsqueda **extensiva** a partir del tiempo necesario para evaluar una única solución\n",
        "2. **Que rapidez necesito para obtener una solución**: A veces horas es aceptable, pero no meses...\n",
        "3. **Cuantas restricciones hay**: A más restricciones, menos probable es que nos interese un método analítico exacto\n",
        "4. **Precisión que necesito en los resultados**: A veces es preferible rapidez y aproximación antes que lentitud y total precisión."
      ]
    },
    {
      "cell_type": "markdown",
      "id": "55604cc6-e060-49d9-805e-3cf30c371e11",
      "metadata": {
        "id": "55604cc6-e060-49d9-805e-3cf30c371e11"
      },
      "source": [
        "### Qué necesitamos para resolver Algoritmos Genéticos con Python"
      ]
    },
    {
      "cell_type": "markdown",
      "id": "ffea0fe5-9042-4088-8367-ce9f62bdd68c",
      "metadata": {
        "id": "ffea0fe5-9042-4088-8367-ce9f62bdd68c"
      },
      "source": [
        "Utilizaremos la librería de Python **`deap`** [Documentación de deap](https://deap.readthedocs.io/en/master/)"
      ]
    },
    {
      "cell_type": "code",
      "execution_count": 1,
      "id": "3b372009-8c31-4e2a-9a4b-839c77a9a18a",
      "metadata": {
        "id": "3b372009-8c31-4e2a-9a4b-839c77a9a18a",
        "outputId": "ba8b142c-39c3-4016-9523-f761ec3e673e",
        "colab": {
          "base_uri": "https://localhost:8080/"
        }
      },
      "outputs": [
        {
          "output_type": "stream",
          "name": "stdout",
          "text": [
            "Looking in indexes: https://pypi.org/simple, https://us-python.pkg.dev/colab-wheels/public/simple/\n",
            "Collecting deap\n",
            "  Downloading deap-1.3.3-cp38-cp38-manylinux_2_5_x86_64.manylinux1_x86_64.manylinux_2_17_x86_64.manylinux2014_x86_64.whl (139 kB)\n",
            "\u001b[K     |████████████████████████████████| 139 kB 12.1 MB/s \n",
            "\u001b[?25hRequirement already satisfied: numpy in /usr/local/lib/python3.8/dist-packages (from deap) (1.21.6)\n",
            "Installing collected packages: deap\n",
            "Successfully installed deap-1.3.3\n"
          ]
        }
      ],
      "source": [
        "!pip install deap"
      ]
    },
    {
      "cell_type": "code",
      "execution_count": 2,
      "id": "cd641dfe-a15b-4d0e-8bcc-be9861fe3334",
      "metadata": {
        "id": "cd641dfe-a15b-4d0e-8bcc-be9861fe3334",
        "outputId": "917fc70d-4373-4ed7-bd17-05d08c0aad4f",
        "colab": {
          "base_uri": "https://localhost:8080/"
        }
      },
      "outputs": [
        {
          "output_type": "stream",
          "name": "stdout",
          "text": [
            "Looking in indexes: https://pypi.org/simple, https://us-python.pkg.dev/colab-wheels/public/simple/\n",
            "Requirement already satisfied: matplotlib in /usr/local/lib/python3.8/dist-packages (3.2.2)\n",
            "Requirement already satisfied: cycler>=0.10 in /usr/local/lib/python3.8/dist-packages (from matplotlib) (0.11.0)\n",
            "Requirement already satisfied: pyparsing!=2.0.4,!=2.1.2,!=2.1.6,>=2.0.1 in /usr/local/lib/python3.8/dist-packages (from matplotlib) (3.0.9)\n",
            "Requirement already satisfied: python-dateutil>=2.1 in /usr/local/lib/python3.8/dist-packages (from matplotlib) (2.8.2)\n",
            "Requirement already satisfied: kiwisolver>=1.0.1 in /usr/local/lib/python3.8/dist-packages (from matplotlib) (1.4.4)\n",
            "Requirement already satisfied: numpy>=1.11 in /usr/local/lib/python3.8/dist-packages (from matplotlib) (1.21.6)\n",
            "Requirement already satisfied: six>=1.5 in /usr/local/lib/python3.8/dist-packages (from python-dateutil>=2.1->matplotlib) (1.15.0)\n"
          ]
        }
      ],
      "source": [
        "!pip install matplotlib"
      ]
    },
    {
      "cell_type": "code",
      "execution_count": 3,
      "id": "e718fa60-b2e8-432e-afb8-3cb3b259fb5e",
      "metadata": {
        "id": "e718fa60-b2e8-432e-afb8-3cb3b259fb5e",
        "outputId": "d2fe056c-9af1-4ab7-8fdf-e89d97bda9fb",
        "colab": {
          "base_uri": "https://localhost:8080/"
        }
      },
      "outputs": [
        {
          "output_type": "stream",
          "name": "stdout",
          "text": [
            "Looking in indexes: https://pypi.org/simple, https://us-python.pkg.dev/colab-wheels/public/simple/\n",
            "Requirement already satisfied: numpy in /usr/local/lib/python3.8/dist-packages (1.21.6)\n"
          ]
        }
      ],
      "source": [
        "!pip install numpy"
      ]
    },
    {
      "cell_type": "code",
      "execution_count": 4,
      "id": "d1636feb-f488-4df1-b81f-0863b811fd57",
      "metadata": {
        "id": "d1636feb-f488-4df1-b81f-0863b811fd57",
        "outputId": "d21645da-d3e4-41c5-85fe-7850928fe649",
        "colab": {
          "base_uri": "https://localhost:8080/"
        }
      },
      "outputs": [
        {
          "output_type": "stream",
          "name": "stdout",
          "text": [
            "Looking in indexes: https://pypi.org/simple, https://us-python.pkg.dev/colab-wheels/public/simple/\n",
            "Requirement already satisfied: scipy in /usr/local/lib/python3.8/dist-packages (1.7.3)\n",
            "Requirement already satisfied: numpy<1.23.0,>=1.16.5 in /usr/local/lib/python3.8/dist-packages (from scipy) (1.21.6)\n"
          ]
        }
      ],
      "source": [
        "!pip install scipy"
      ]
    },
    {
      "cell_type": "markdown",
      "id": "a28845db-dd62-404c-9025-0066adefc3f1",
      "metadata": {
        "id": "a28845db-dd62-404c-9025-0066adefc3f1"
      },
      "source": [
        "Necesitamos también la librería de Python de **multiprocesamiento** (mecanismo de **paralelización**) **`SCOOP`** [Enlace al GitHub de SCOOP](https://github.com/soravux/scoop)"
      ]
    },
    {
      "cell_type": "markdown",
      "source": [
        "Paralelizables : todo el algoritmo, se pueden hacer muchas cosas a la vez."
      ],
      "metadata": {
        "id": "zL_bexSmsKAr"
      },
      "id": "zL_bexSmsKAr"
    },
    {
      "cell_type": "code",
      "execution_count": 5,
      "id": "1baccdcd-950d-4bb4-90d3-fac358d8278b",
      "metadata": {
        "id": "1baccdcd-950d-4bb4-90d3-fac358d8278b",
        "outputId": "ae6b4e91-eeff-4bed-e5cb-69226e53ee06",
        "colab": {
          "base_uri": "https://localhost:8080/"
        }
      },
      "outputs": [
        {
          "output_type": "stream",
          "name": "stdout",
          "text": [
            "Looking in indexes: https://pypi.org/simple, https://us-python.pkg.dev/colab-wheels/public/simple/\n",
            "Collecting scoop\n",
            "  Downloading scoop-0.7.2.0.tar.gz (615 kB)\n",
            "\u001b[K     |████████████████████████████████| 615 kB 14.8 MB/s \n",
            "\u001b[?25hRequirement already satisfied: greenlet>=0.3.4 in /usr/local/lib/python3.8/dist-packages (from scoop) (2.0.1)\n",
            "Requirement already satisfied: pyzmq>=13.1.0 in /usr/local/lib/python3.8/dist-packages (from scoop) (23.2.1)\n",
            "Building wheels for collected packages: scoop\n",
            "  Building wheel for scoop (setup.py) ... \u001b[?25l\u001b[?25hdone\n",
            "  Created wheel for scoop: filename=scoop-0.7.2.0-py3-none-any.whl size=78119 sha256=1c114fd160600b1097aca08c51178e652c753268c2346afd12a9f48f94977192\n",
            "  Stored in directory: /root/.cache/pip/wheels/06/d1/b8/b4495d80f3aa67a67b8d19a900892d4f6af3c6d1bdd3cd015c\n",
            "Successfully built scoop\n",
            "Installing collected packages: scoop\n",
            "Successfully installed scoop-0.7.2.0\n"
          ]
        }
      ],
      "source": [
        "!pip install scoop"
      ]
    },
    {
      "cell_type": "markdown",
      "id": "f28a1414-ac27-4930-bb1b-1871c559bcc4",
      "metadata": {
        "id": "f28a1414-ac27-4930-bb1b-1871c559bcc4"
      },
      "source": [
        "### RESOLUCIÓN DE UN PROBLEMA SENCILLO ---------------------------------------"
      ]
    },
    {
      "cell_type": "markdown",
      "id": "93d8c81f-5427-40b1-a765-dc5c7cbc4f30",
      "metadata": {
        "id": "93d8c81f-5427-40b1-a765-dc5c7cbc4f30"
      },
      "source": [
        "Se desea encontrar el **máximo** de la función:\n",
        "$$f(x,y) = \\sqrt{x^2 + y^2}$$\n",
        "En el dominio $$\\{x,y\\} \\in [-100,100]$$"
      ]
    },
    {
      "cell_type": "markdown",
      "id": "7334aa93-ac24-4da9-8a78-d51745ce5273",
      "metadata": {
        "id": "7334aa93-ac24-4da9-8a78-d51745ce5273"
      },
      "source": [
        "En este problema, la cadena cromosomática estaría formada por dos genes (cromosomas), que, al confinarse en forma de lista, quedaría como\n",
        "Uno para la x y otro para la y\n",
        "\n",
        " $$[x_i, y_i]$$ con $$i = 1, 2, ... , n$$"
      ]
    },
    {
      "cell_type": "markdown",
      "source": [
        "para el cruce, tengo xp1 yp1 / xp2 yp2\n",
        "los hijos pueden ser xp1 yp2 / xp2 yp1\n",
        "\n",
        "Por ejemplo, tenemos p1=[100,-100] y p2= [50,78]\n",
        "Por lo que los hijos serían [100,78] y [50,-100]"
      ],
      "metadata": {
        "id": "p_yMemZhsoqE"
      },
      "id": "p_yMemZhsoqE"
    },
    {
      "cell_type": "markdown",
      "id": "1d38c5de-d457-4930-bd05-ddb55c31933c",
      "metadata": {
        "id": "1d38c5de-d457-4930-bd05-ddb55c31933c"
      },
      "source": [
        "La **población** del algoritmo **no cambia de tamaño** a lo largo de las generaciones, con lo que **n** será **constante**"
      ]
    },
    {
      "cell_type": "markdown",
      "id": "1e2e5ece-293e-48e2-8659-31c62637b3ee",
      "metadata": {
        "id": "1e2e5ece-293e-48e2-8659-31c62637b3ee"
      },
      "source": [
        "La población inicial se **elige de forma aleatoria** porque queremos **diversidad genética**"
      ]
    },
    {
      "cell_type": "code",
      "execution_count": 6,
      "id": "d42f87a4-ab4c-4ad3-9b1c-6b326da09c82",
      "metadata": {
        "id": "d42f87a4-ab4c-4ad3-9b1c-6b326da09c82"
      },
      "outputs": [],
      "source": [
        "import random\n",
        "import math\n",
        "import numpy as np\n",
        "from deap import base\n",
        "from deap import creator\n",
        "from deap import tools\n",
        "from deap import algorithms\n",
        "import matplotlib.pyplot as plt"
      ]
    },
    {
      "cell_type": "markdown",
      "id": "54949f15-4532-41b5-830d-0590fb3f40d9",
      "metadata": {
        "tags": [],
        "id": "54949f15-4532-41b5-830d-0590fb3f40d9"
      },
      "source": [
        "#### NOTA SOBRE NÚMEROS ALEATORIOS --------------------------"
      ]
    },
    {
      "cell_type": "markdown",
      "id": "dbd08d4b-2bc2-4392-b62c-f1ac9a8cd315",
      "metadata": {
        "id": "dbd08d4b-2bc2-4392-b62c-f1ac9a8cd315"
      },
      "source": [
        "Queremos generar números aleatorios entre -100 y 100 (sin incluir a estos). Podemos usar el módulo nativo random de generación de números pseudoaleatorios [Documentación librería random](https://docs.python.org/3/library/random.html) y `numpy.random`(para generación de vectores psudoaleatorios) [Documentación numpy.random](https://docs.scipy.org/doc/numpy-1.16.1/reference/routines.random.html). Recordad que los números totalmente aleatorios no existen en programación.\n",
        "\n",
        "Utilizamos, además, el método `uniform`: [Documentación método uniform](https://docs.python.org/3.6/library/random.html)"
      ]
    },
    {
      "cell_type": "code",
      "execution_count": 7,
      "id": "7ce06dee-d95a-47f0-a211-4cca260eace0",
      "metadata": {
        "id": "7ce06dee-d95a-47f0-a211-4cca260eace0",
        "outputId": "f4198e9c-fdd8-4530-ae0e-ffd4844bcbf7",
        "colab": {
          "base_uri": "https://localhost:8080/"
        }
      },
      "outputs": [
        {
          "output_type": "stream",
          "name": "stdout",
          "text": [
            "x=  [68.88437030500961, 51.590880588060486, -15.885683833830996, -48.21664994140733, 2.254944273721705, -19.01317250991714, 56.75971780695451, -39.33745478421451, -4.680609169528836, 16.676407891006235]\n",
            "y=  [81.62257703906704, 0.9373711634780477, -43.63243112005924, 51.16084083144477, 23.67379933506632, -49.898731727511894, 81.94925119364802, 96.55709520753061, 62.04344719931791, 80.43319008791653]\n"
          ]
        }
      ],
      "source": [
        "# Importamos la librería\n",
        "import random\n",
        "# Fijamos la semilla. Si no cambiamos la semilla, \n",
        "# la función generará los mismos número aleatorios\n",
        "random.seed(0)\n",
        "# Generamos los números pseudo-aleatorios en 2 list comprenhension\n",
        "# para encapsular todos los datos en las listas x e y\n",
        "x = [random.uniform(-100, 100) for i in range(10)]\n",
        "y = [random.uniform(-100, 100) for i in range(10)]\n",
        "print('x= ', x)\n",
        "print('y= ', y)"
      ]
    },
    {
      "cell_type": "markdown",
      "id": "18eb1cd6-52ed-4e71-bd00-d2062c2b4a73",
      "metadata": {
        "id": "18eb1cd6-52ed-4e71-bd00-d2062c2b4a73"
      },
      "source": [
        "Otra posibilidad es generar dos vectores de diez valores comprendidos entre -100 y 100, con una forma (1,10) (1 fila y 10 columnas). Serían dos vectores de tipo fila con diez valores"
      ]
    },
    {
      "cell_type": "code",
      "execution_count": 8,
      "id": "44c25d1e-ba6e-43cc-bfd6-a732e5df2a59",
      "metadata": {
        "id": "44c25d1e-ba6e-43cc-bfd6-a732e5df2a59",
        "outputId": "f6636e55-16d6-4a0a-b284-e45a3638a8a9",
        "colab": {
          "base_uri": "https://localhost:8080/"
        }
      },
      "outputs": [
        {
          "output_type": "stream",
          "name": "stdout",
          "text": [
            "z=  [[  9.76270079  43.03787327  20.55267521   8.9766366  -15.26904013\n",
            "   29.17882261 -12.48255775  78.35460016  92.7325521  -23.31169623]]\n",
            "t=  [[ 58.34500762   5.77898395  13.60891222  85.11932766 -85.79278836\n",
            "  -82.57414006 -95.95632051  66.52396911  55.63135019  74.00242965]]\n"
          ]
        }
      ],
      "source": [
        "import numpy as np\n",
        "# Fijamos la semilla\n",
        "np.random.seed(0)\n",
        "# Generamos los números pseudo-aleatorios\n",
        "# Son los mismos mientras no cambiemos la semilla\n",
        "# Numpy genera directamente los vectores\n",
        "z = np.random.uniform(-100, 100, 10).reshape(1, 10) \n",
        "t = np.random.uniform(-100, 100, 10).reshape(1, 10) \n",
        "print('z= ', z)\n",
        "print('t= ', t)"
      ]
    },
    {
      "cell_type": "markdown",
      "id": "57459d16-b5d1-404a-a09f-471333c37891",
      "metadata": {
        "id": "57459d16-b5d1-404a-a09f-471333c37891"
      },
      "source": [
        "Hay que tener en cuenta que las soluciones deben ser válidas y una solución sería **no válida** si alguna de las variables independientes se saliera de los **rangos establecidos**. Es común en los problemas de optimización tener restricciones en las variables, por lo que siempre tendremos que **comprobar la validez de nuestras soluciones**"
      ]
    },
    {
      "cell_type": "markdown",
      "id": "a935fd89-89df-425c-99ea-1a5bd668b878",
      "metadata": {
        "id": "a935fd89-89df-425c-99ea-1a5bd668b878"
      },
      "source": [
        "#### ------------------------------------------------------------------"
      ]
    },
    {
      "cell_type": "markdown",
      "id": "7f967799-f819-4d3d-9288-47c62d81704d",
      "metadata": {
        "id": "7f967799-f819-4d3d-9288-47c62d81704d"
      },
      "source": [
        "#### NOTA 2: ESPACIO DE BÚSQUEDA O DOMINIO DE LA SOLUCIÓN -"
      ]
    },
    {
      "cell_type": "markdown",
      "id": "f00b93b5-1058-421e-8086-3bf23adf44db",
      "metadata": {
        "id": "f00b93b5-1058-421e-8086-3bf23adf44db"
      },
      "source": [
        "Sabemos que las 4 soluciones óptimas para nuestro problema de ejemplo son:"
      ]
    },
    {
      "cell_type": "markdown",
      "id": "e0307957-bd11-4526-8450-d7db65c5f416",
      "metadata": {
        "id": "e0307957-bd11-4526-8450-d7db65c5f416"
      },
      "source": [
        "|Individuo|x|y|\n",
        "|-|-|-|\n",
        "|1|100|100|\n",
        "|2|-100|100|\n",
        "|3|100|-100|\n",
        "|4|-100|-100|"
      ]
    },
    {
      "cell_type": "markdown",
      "id": "8cd15e61-99d4-4fa7-82cc-ab5386ce2a14",
      "metadata": {
        "id": "8cd15e61-99d4-4fa7-82cc-ab5386ce2a14"
      },
      "source": [
        "Vamos a resolverlo con Algoritmo Genético como ejercício, aunque cualquier algoritmo de optimización basado en gradiente de los que vienen incluidos en el módulo `optimize` de `scipy`([módulo optimize en scipy](https://docs.scipy.org/doc/scipy/reference/generated/scipy.optimize.minimize.html#scipy.optimize.minimize)) nos valdría para obtener una solución a nuestro problema de manera sencilla, ya que nuestra función es **convexa**\n",
        "\n",
        "Recordar que: Los AGs se deben emplear en **problemas de optimización** en los que la solución óptima **no se conozca** y ni siquiera tengamos una **aproximación** a la misma o incluso **ni siquiera se tenga la certeza** de que podamos obtenerla.\n",
        "\n",
        "Aunque el **uso de AGs no nos da certeza de obtener la solución óptima**, si obtendremos una solución **bastante buena** y en un **tiempo razonable**. Siempre vamos a terminar con una solución al problema que **será mejor que realizar una búsqueda totalmente aleatoria** "
      ]
    },
    {
      "cell_type": "markdown",
      "id": "735db5ba-fb4f-4da2-8a33-6876950a8b97",
      "metadata": {
        "id": "735db5ba-fb4f-4da2-8a33-6876950a8b97"
      },
      "source": [
        "##### Visualicemos nuestra función"
      ]
    },
    {
      "cell_type": "code",
      "execution_count": 9,
      "id": "ef168180-ea01-46a2-b51a-1419f5fa326f",
      "metadata": {
        "id": "ef168180-ea01-46a2-b51a-1419f5fa326f"
      },
      "outputs": [],
      "source": [
        "# Importamos las librerías necesarias\n",
        "import numpy as np\n",
        "import matplotlib.pyplot as plt\n",
        "from mpl_toolkits.mplot3d import Axes3D\n",
        "from matplotlib import cm"
      ]
    },
    {
      "cell_type": "code",
      "execution_count": 10,
      "id": "f0c2efe5-e609-493e-8575-75b67d37000b",
      "metadata": {
        "id": "f0c2efe5-e609-493e-8575-75b67d37000b"
      },
      "outputs": [],
      "source": [
        "# Definimos la función objetivo\n",
        "def funcion_prueba(x):\n",
        "    # x es x[0] e y es x[1]\n",
        "    res = np.sqrt(x[0]**2 + x[1]**2)\n",
        "    return res"
      ]
    },
    {
      "cell_type": "markdown",
      "id": "33d62592-99ea-41ae-a85a-ac7f76696737",
      "metadata": {
        "id": "33d62592-99ea-41ae-a85a-ac7f76696737"
      },
      "source": [
        "[numpy.linspace](https://numpy.org/doc/stable/reference/generated/numpy.linspace.html)"
      ]
    },
    {
      "cell_type": "code",
      "execution_count": 11,
      "id": "e8429f3c-5960-4b35-88fe-0d57c590fa71",
      "metadata": {
        "id": "e8429f3c-5960-4b35-88fe-0d57c590fa71"
      },
      "outputs": [],
      "source": [
        "# Generamos vectores que barran todo el dominio\n",
        "x = np.linspace(-100, 100, 1000)\n",
        "y = np.linspace(-100, 100, 1000)\n",
        "# print('x= ', x)\n",
        "# print('y= ', y)"
      ]
    },
    {
      "cell_type": "markdown",
      "id": "91c6b59e-7c03-4a8c-8c75-aecaa2b3fe02",
      "metadata": {
        "id": "91c6b59e-7c03-4a8c-8c75-aecaa2b3fe02"
      },
      "source": [
        "[numpy.meshgrid](https://numpy.org/doc/stable/reference/generated/numpy.meshgrid.html)\n",
        "\n",
        "[numpy.ravel](https://numpy.org/doc/stable/reference/generated/numpy.ravel.html)\n",
        "\n",
        "[numpy.c_](https://numpy.org/doc/stable/reference/generated/numpy.c_.html)"
      ]
    },
    {
      "cell_type": "code",
      "execution_count": 12,
      "id": "1d60d267-bce7-40d4-b689-4826bd8a69b1",
      "metadata": {
        "id": "1d60d267-bce7-40d4-b689-4826bd8a69b1"
      },
      "outputs": [],
      "source": [
        "# Evaluamos todos los valores de las variables\n",
        "x_ax, y_ax = np.meshgrid(x, y)\n",
        "vals = np.c_[x_ax.ravel(), y_ax.ravel()]\n",
        "fx = np.reshape([funcion_prueba(val) for val in vals],(1000, 1000))"
      ]
    },
    {
      "cell_type": "markdown",
      "id": "c21c36a7-9eb8-4965-b9a7-418888faec93",
      "metadata": {
        "id": "c21c36a7-9eb8-4965-b9a7-418888faec93"
      },
      "source": [
        "[matplotlib.pyplot.gca](https://matplotlib.org/3.1.1/api/_as_gen/matplotlib.pyplot.gca.html)"
      ]
    },
    {
      "cell_type": "code",
      "execution_count": 13,
      "id": "1367e8c7-e4af-47f7-93a6-55bfe0cdae0d",
      "metadata": {
        "id": "1367e8c7-e4af-47f7-93a6-55bfe0cdae0d",
        "outputId": "b46be404-7aea-4bbf-aaf2-88fab617edee",
        "colab": {
          "base_uri": "https://localhost:8080/",
          "height": 374
        }
      },
      "outputs": [
        {
          "output_type": "execute_result",
          "data": {
            "text/plain": [
              "Text(0.5, 0, 'f(x,y)')"
            ]
          },
          "metadata": {},
          "execution_count": 13
        },
        {
          "output_type": "display_data",
          "data": {
            "text/plain": [
              "<Figure size 576x432 with 1 Axes>"
            ],
            "image/png": "[encoded data removed]"
          },
          "metadata": {
            "needs_background": "light"
          }
        }
      ],
      "source": [
        "# Representamos los resultados obtenidos\n",
        "figure_3d = plt.figure(figsize=(8,6))\n",
        "ax = figure_3d.gca(projection=\"3d\")\n",
        "ax.plot_surface(x_ax, y_ax, fx, cmap=cm.coolwarm)\n",
        "ax.set_xlabel(\"x\")\n",
        "ax.set_ylabel(\"y\")\n",
        "ax.set_zlabel(\"f(x,y)\")"
      ]
    },
    {
      "cell_type": "markdown",
      "id": "aa806895-1d2f-4bda-86b4-d9ba8597f974",
      "metadata": {
        "id": "aa806895-1d2f-4bda-86b4-d9ba8597f974"
      },
      "source": [
        "#### ------------------------------------------------------------------"
      ]
    },
    {
      "cell_type": "markdown",
      "id": "d5e912ba-6bd6-4a1c-9bc2-442628178da2",
      "metadata": {
        "id": "d5e912ba-6bd6-4a1c-9bc2-442628178da2"
      },
      "source": [
        "A partir de ahora veremos los siguientes pasos:\n",
        "1. Definición del problema y generación de la población inicial\n",
        "- 1.1 Creación del problema\n",
        "- 1.2 Creación de la plantilla del individuo\n",
        "- 1.3 Crear individuos aleatorios y población inicial\n",
        "2. Función objetivo y operadores genéticos\n",
        "- 2.1 Función objetivo\n",
        "3. Incorporación de los operadores genéticos\n",
        "4. Últimos pasos: Algortimo Genético como caja negra\n",
        "- 4.1 Configuración algoritmo genético\n",
        "- 4.2 Resultados del algoritmo genético\n",
        "5. ¿Cómo conseguir resultados consistentes?\n",
        "6. Convergencia del algoritmo\n",
        "7. Exploración versus explotación en algoritmos genéticos\n",
        "8. Código completo y lecciones aprendidas\n",
        "9. Para seguir aprendiendo"
      ]
    },
    {
      "cell_type": "markdown",
      "id": "4c56cea9-ef48-4084-a79c-e25d45222fc6",
      "metadata": {
        "id": "4c56cea9-ef48-4084-a79c-e25d45222fc6"
      },
      "source": [
        "#### 1. Definición del problema y generación de la población inicial"
      ]
    },
    {
      "cell_type": "markdown",
      "id": "987a1efc-5216-411b-a826-242fd96be59e",
      "metadata": {
        "id": "987a1efc-5216-411b-a826-242fd96be59e"
      },
      "source": [
        "Se importan las librerías necesarias"
      ]
    },
    {
      "cell_type": "code",
      "execution_count": 14,
      "id": "bd25ac80-6bbd-401b-95dc-de908108df29",
      "metadata": {
        "id": "bd25ac80-6bbd-401b-95dc-de908108df29"
      },
      "outputs": [],
      "source": [
        "import random\n",
        "from deap import base\n",
        "from deap import creator\n",
        "from deap import tools"
      ]
    },
    {
      "cell_type": "markdown",
      "id": "65cf7f7d-95bd-4bfe-bdd0-8a21c8034295",
      "metadata": {
        "id": "65cf7f7d-95bd-4bfe-bdd0-8a21c8034295"
      },
      "source": [
        "##### 1.1 Creación del problema"
      ]
    },
    {
      "cell_type": "markdown",
      "id": "8c02cb79-d0a6-4a00-8193-5b36a536ca86",
      "metadata": {
        "id": "8c02cb79-d0a6-4a00-8193-5b36a536ca86"
      },
      "source": [
        "Creamos los objetos para **definir el tipo de problema de optimización** (maximizar o minimizar), con el método `create` de la clase `creator`. Crea una nueva clase llamada `name=FitnessMax` (podría ser otro), que hereda de `base=base.Fitness` y que tiene un atributo llamado `attribute=weights` que se añadirá a la clase cuando esta se cree (opcional) y que determina el tipo de problema de optimización que estamos definiendo (contiene una tupla con tantas componentes como objetivos tenga el problema y con un valor que indica si es maximización o minimización). En nuestro caso, un solo objetivo y maximización (porque 1.0 es positivo). El objeto `base.Fitness` contiene los atributos encargados de almacenar el **fitness** o desempeño de un individuo y otros [atributos de base.Fitness](https://deap.readthedocs.io/en/master/api/base.html#deap.base.Fitness), que los heredará nuestra nueva clase `FitnessMax`:\n",
        "* `values`: Una tupla con los valores de **fitness** de cada uno de los objetivos de nuestro problema. Contiene, por tanto, la calidad de cada individuo en cada uno de los objetivos de nuestro problema\n",
        "* `dominates`: Devuelve `True` si una solución es estrictamente peor que otra (tiene sentido en AGs de varios objetivos)\n",
        "* `valid`: Indica si el **fitness** de un individuo es válido. Se usa para saber el número de individuos que se tienen que evaluar en cada iteración. Si un individuo tiene el atributo `values` vacío, el atributo `valid` será `False`."
      ]
    },
    {
      "cell_type": "code",
      "execution_count": 15,
      "id": "38ef88f9-3c39-43fe-b4d1-9d5c2577eb54",
      "metadata": {
        "id": "38ef88f9-3c39-43fe-b4d1-9d5c2577eb54"
      },
      "outputs": [],
      "source": [
        "creator.create(\"FitnessMax\", base.Fitness, weights=(1.0,))"
      ]
    },
    {
      "cell_type": "markdown",
      "source": [
        " weights=(1.0,)) como es positivo, es max\n",
        " \n",
        " si fuese en negativo, sería minimizar \n",
        "\n",
        " Hereda los atributos de base.Fitness"
      ],
      "metadata": {
        "id": "RP7r5_XIvI1T"
      },
      "id": "RP7r5_XIvI1T"
    },
    {
      "cell_type": "markdown",
      "id": "6fc96165-7ded-4064-ad61-119bd84aade3",
      "metadata": {
        "id": "6fc96165-7ded-4064-ad61-119bd84aade3"
      },
      "source": [
        "Lo que realmente hemos hecho es:\n",
        "```\n",
        "# Importamos las librerías necesarias\n",
        "from deap import base\n",
        "\n",
        "# Generamos la clase\n",
        "class MaxFitness(base.Fitness):\n",
        "  weights = (1.0,)\n",
        "```"
      ]
    },
    {
      "cell_type": "markdown",
      "id": "1909fa1a-2f5f-4b77-b0f3-a1b7961d0138",
      "metadata": {
        "id": "1909fa1a-2f5f-4b77-b0f3-a1b7961d0138"
      },
      "source": [
        "##### 1.2 Creación de la plantilla del individuo"
      ]
    },
    {
      "cell_type": "markdown",
      "id": "3793b0c2-8558-4fe8-9e28-8c7e99c45f72",
      "metadata": {
        "id": "3793b0c2-8558-4fe8-9e28-8c7e99c45f72"
      },
      "source": [
        "Creamos el **tipo de individuo** (el tipo de objeto de Python o plantilla que va a contener el individuo (lista, vector, etc) \n",
        "y sus atributos. Creamos la clase `Individual` que hereda de la clase `list` [listas en Python](https://docs.python.org/3/tutorial/datastructures.html) y que contiene el atributo `fitness` inicializado con el objeto `FitnessMax`: Un individuo es una lista con un atributo que almacenará la calidad o desempeño de si mismo "
      ]
    },
    {
      "cell_type": "code",
      "execution_count": 16,
      "id": "7e882ca7-5af8-4553-8c6a-0bf672951b58",
      "metadata": {
        "id": "7e882ca7-5af8-4553-8c6a-0bf672951b58"
      },
      "outputs": [],
      "source": [
        "creator.create(\"Individual\", list, fitness=creator.FitnessMax)"
      ]
    },
    {
      "cell_type": "markdown",
      "id": "76b4225c-5f6b-4b4f-86b3-6f7c7d70bcbc",
      "metadata": {
        "id": "76b4225c-5f6b-4b4f-86b3-6f7c7d70bcbc"
      },
      "source": [
        "Lo que realmente hemos hecho hasta ahora:\n",
        "```\n",
        "# Importamos las librerías necesarias\n",
        "from deap import base\n",
        "\n",
        "# Generamos la clase\n",
        "class MaxFitness(base.Fitness):\n",
        "  weights = (1.0,)\n",
        "\n",
        "# Generamos la clase Individual\n",
        "class Individual(list)\n",
        "  fitness = MaxFitness\n",
        "```"
      ]
    },
    {
      "cell_type": "markdown",
      "id": "289228de-76d9-430d-b482-55c7aa774f97",
      "metadata": {
        "id": "289228de-76d9-430d-b482-55c7aa774f97"
      },
      "source": [
        "##### 1.3 Crear individuos aleatorios y población inicial"
      ]
    },
    {
      "cell_type": "markdown",
      "id": "874ae073-c5d9-4d32-8505-9434d086d41b",
      "metadata": {
        "id": "874ae073-c5d9-4d32-8505-9434d086d41b"
      },
      "source": [
        "Definición del **objeto caja de herramientas** o `Toolbox` [Toolbox](https://deap.readthedocs.io/en/master/api/base.html#toolbox) que contendrá, mediante \n",
        "**registro**, un conjunto de funciones utilizadas por el algoritmo durante \n",
        "su ejecución, como suelen ser:\n",
        "* Función para **crear los individuos** de forma **aleatoria**\n",
        "* Función para **crear la población**\n",
        "* **Operadores genéticos** (selección, cruce y mutación)\n",
        "* Función **objetivo**"
      ]
    },
    {
      "cell_type": "code",
      "execution_count": 17,
      "id": "76782a39-c72a-4445-8336-411c1200fca5",
      "metadata": {
        "id": "76782a39-c72a-4445-8336-411c1200fca5"
      },
      "outputs": [],
      "source": [
        "toolbox = base.Toolbox()"
      ]
    },
    {
      "cell_type": "markdown",
      "id": "766597f4-1a91-4fc5-9db2-4e0bc1730aaf",
      "metadata": {
        "id": "766597f4-1a91-4fc5-9db2-4e0bc1730aaf"
      },
      "source": [
        "En el `Toolbox` registraremos funciones necesarias para ejecutar el AG, a través del método `register` de la clase `base.Toolbox` que tiene los atributos:\n",
        "* `alias`: El nombre con el que registramos la función en el `Toolbox`\n",
        "* `function`: La función que estamos registrando\n",
        "* `argument`: Los argumentos que se pasan a la función"
      ]
    },
    {
      "cell_type": "markdown",
      "id": "3ff0e013-fe58-4503-873c-7d49fbcf8196",
      "metadata": {
        "id": "3ff0e013-fe58-4503-873c-7d49fbcf8196"
      },
      "source": [
        "Registramos la función `attr_uniform` (Que será un método de la clase `toolbox`) que permite **crear individuos aleatorios** desarrollando una función (usaremos `random.uniform`) que nos permita generar un valor aleatorio para cada variable independiente (cada gen del comosoma), esto es, cada una de las posiciones de la lista con valores sujetos a las restricciones de nuestro problema (-100, 100)"
      ]
    },
    {
      "cell_type": "code",
      "execution_count": 18,
      "id": "abd798bf-ebba-4e4e-91d7-dde072730f05",
      "metadata": {
        "id": "abd798bf-ebba-4e4e-91d7-dde072730f05"
      },
      "outputs": [],
      "source": [
        "# Generación de genes\n",
        "toolbox.register(\"attr_uniform\", random.uniform, -100, 100)"
      ]
    },
    {
      "cell_type": "code",
      "execution_count": 19,
      "id": "67bf9c28-bf5f-4e4f-b5e7-9758a3b1b359",
      "metadata": {
        "id": "67bf9c28-bf5f-4e4f-b5e7-9758a3b1b359",
        "outputId": "fd5e1136-b82f-4cc1-9cbf-df67ce528f41",
        "colab": {
          "base_uri": "https://localhost:8080/"
        }
      },
      "outputs": [
        {
          "output_type": "execute_result",
          "data": {
            "text/plain": [
              "-37.970486136133474"
            ]
          },
          "metadata": {},
          "execution_count": 19
        }
      ],
      "source": [
        "# Probamos y vemos que generamos un número leatorio entre -100 y 100 distinto cada vez\n",
        "toolbox.attr_uniform()"
      ]
    },
    {
      "cell_type": "markdown",
      "id": "8330bf67-3bfe-4be1-af0e-f3a48e17db43",
      "metadata": {
        "id": "8330bf67-3bfe-4be1-af0e-f3a48e17db43"
      },
      "source": [
        "Si se quiere detalle de como hace esto Python, investigar el método `partial` del módulo nativo `functools`: [functools](https://docs.python.org/3/library/functools.html) "
      ]
    },
    {
      "cell_type": "markdown",
      "id": "aef27d6f-c86e-40be-af18-734134431527",
      "metadata": {
        "id": "aef27d6f-c86e-40be-af18-734134431527"
      },
      "source": [
        "Lo que realmente hemos hecho hasta ahora:\n",
        "```\n",
        "# Importamos las librerías necesarias\n",
        "import random\n",
        "\n",
        "# Definimos la función correspondiente\n",
        "def funcion(a=-100, b=100):\n",
        "  return random.uniform(a,b)\n",
        "\n",
        "# Definimos la clase\n",
        "class Toolbox(object)\n",
        "  attr_uniform = function\n",
        "```"
      ]
    },
    {
      "cell_type": "markdown",
      "id": "035176f8-5020-4c52-ad7e-665f22f442ba",
      "metadata": {
        "id": "035176f8-5020-4c52-ad7e-665f22f442ba"
      },
      "source": [
        "Creamos el individuo completo llamando a la función que genera cada uno de los individuos tantas veces como variables independientes tengamos. Eso lo hacemos registrando la función `individual` que, a su vez, llama a la función `tools.initRepeat` que tiene los siguientes parámetros:\n",
        "* `container`: Tipo de dato donde se almacenará el resultado del argumento `func` -> En nuestro caso, la clase `creator.individual` creada anteriormente\n",
        "* `func`: Función a la que se llamará `n` veces -> En nuestro caso `toolbox.attr_uniform` creada anteriormente para crear cada gen\n",
        "* `n`: Número de veces que se llamará a la función `func`-> En nuestro caso 2 cromosomas a crear\n"
      ]
    },
    {
      "cell_type": "code",
      "execution_count": 20,
      "id": "9962beb1-0764-4915-850d-835d7bf81de0",
      "metadata": {
        "id": "9962beb1-0764-4915-850d-835d7bf81de0"
      },
      "outputs": [],
      "source": [
        "# Generación de inviduos\n",
        "toolbox.register(\"individual\", tools.initRepeat, creator.Individual,\n",
        "                 toolbox.attr_uniform, 2)"
      ]
    },
    {
      "cell_type": "code",
      "execution_count": 21,
      "id": "9676786f-6d1b-4c54-bd3c-3a67089b881b",
      "metadata": {
        "id": "9676786f-6d1b-4c54-bd3c-3a67089b881b",
        "outputId": "56e03343-6c61-44b4-c521-2e51f76e7cd6",
        "colab": {
          "base_uri": "https://localhost:8080/"
        }
      },
      "outputs": [
        {
          "output_type": "execute_result",
          "data": {
            "text/plain": [
              "[45.96634965202574, 79.7676575935987]"
            ]
          },
          "metadata": {},
          "execution_count": 21
        }
      ],
      "source": [
        "# Ejemplo de la generación de un individuo aleatorio\n",
        "individuo = toolbox.individual()\n",
        "individuo"
      ]
    },
    {
      "cell_type": "code",
      "execution_count": 22,
      "id": "d7767615-a113-49ba-9875-f2033a2ba0e5",
      "metadata": {
        "id": "d7767615-a113-49ba-9875-f2033a2ba0e5",
        "outputId": "697665f6-fad9-4f96-9e30-bd4ab625c068",
        "colab": {
          "base_uri": "https://localhost:8080/"
        }
      },
      "outputs": [
        {
          "output_type": "execute_result",
          "data": {
            "text/plain": [
              "()"
            ]
          },
          "metadata": {},
          "execution_count": 22
        }
      ],
      "source": [
        "# Recordar que individuo es una lista que tiene un atributo fitness\n",
        "# donde se almacena la calidad del mismo, que al principio será\n",
        "# vacío, porque aun no ha sido evaluado\n",
        "individuo.fitness.values"
      ]
    },
    {
      "cell_type": "markdown",
      "id": "5a8e93e0-c632-4e9e-a3ee-a9e6b466859d",
      "metadata": {
        "id": "5a8e93e0-c632-4e9e-a3ee-a9e6b466859d"
      },
      "source": [
        "El procedimiento para **crear una población** es análogo a la creación de un individuo:"
      ]
    },
    {
      "cell_type": "code",
      "execution_count": 23,
      "id": "c4b95bf0-6821-4f2d-9bbe-e1f969d6adab",
      "metadata": {
        "id": "c4b95bf0-6821-4f2d-9bbe-e1f969d6adab"
      },
      "outputs": [],
      "source": [
        "# Generación de población\n",
        "toolbox.register(\"population\", tools.initRepeat, list,\n",
        "                 toolbox.individual, 32)"
      ]
    },
    {
      "cell_type": "markdown",
      "id": "de989e72-9240-49f8-9566-22de3f44c7bc",
      "metadata": {
        "id": "de989e72-9240-49f8-9566-22de3f44c7bc"
      },
      "source": [
        " Como se puede ver, se registra la función `population` que utiliza `initRepeat` para llamar 32 veces a la función `Individual` (una vez por cad individuo que formará la población inicial). El resultado se guarda en una `list` que contiene la población inicial generada. Se recomienda elegir números **divisibles entre 4**, ya que algunas operaciones genéticas del módulo `deap` pueden dar problemas si no se cumple este requisito"
      ]
    },
    {
      "cell_type": "code",
      "execution_count": 24,
      "id": "0de3dcdc-e574-465e-bbf9-12cc9048e555",
      "metadata": {
        "id": "0de3dcdc-e574-465e-bbf9-12cc9048e555",
        "outputId": "891a41f1-89b1-47a9-b540-94886649ff91",
        "colab": {
          "base_uri": "https://localhost:8080/"
        }
      },
      "outputs": [
        {
          "output_type": "stream",
          "name": "stdout",
          "text": [
            "[[36.79678638308826, -5.571456909457325], [-79.85975838632683, -13.165632909243257], [22.177394688760316, 82.60221064757965], [93.32127355415176, -4.5980446894566], [73.061985554328, -47.90153792160812], [61.005565402604475, 9.739860767117861], [-97.19165996719622, 43.94093728079082], [-20.235291555146247, 64.96899542964661], [33.63064024637018, -99.77143613711435], [-1.284426706935065, 73.52055509855617], [-51.2178246225736, -34.95912745052199], [74.09424642173093, -61.78658169952189], [13.50214812413438, -52.27681427695596], [93.50805005802866, 60.63589385597402], [-10.406085712885925, -83.91083628949292], [-35.98907906549084, 1.5881285041147777], [86.56676484538136, -78.18843081377926], [10.253449218110248, 41.312281973377935], [9.488182265684756, 62.8933726582672], [8.056721394064795, 92.76770919476019], [20.63712559227659, 17.52341283508727], [-11.00219474489677, 19.257372316621257], [-23.019770805467914, 15.130202832977702], [-41.934099519448395, -62.121734289128774], [-62.654094348888975, 22.554635973721332], [31.331877797925756, -4.693801598123855], [-82.03512776088127, 51.52078439328736], [75.35407416455496, 84.67620318925611], [68.4920446280365, 79.6346242715758], [84.61648796403537, 8.119984989610884], [-21.740789953075023, 41.05667997088125], [-44.87317573757457, 62.32574170157571]]\n"
          ]
        }
      ],
      "source": [
        "# Ejemplo de creación de una población. Se ve que es\n",
        "# una lista de 32 listas (una por cada individuo)\n",
        "poblacion = toolbox.population()\n",
        "print(poblacion)"
      ]
    },
    {
      "cell_type": "code",
      "execution_count": 25,
      "id": "fac45b51-d1ef-4c60-b4e7-926812999925",
      "metadata": {
        "id": "fac45b51-d1ef-4c60-b4e7-926812999925",
        "outputId": "f1008096-00a9-4f25-846e-3271504e9a63",
        "colab": {
          "base_uri": "https://localhost:8080/"
        }
      },
      "outputs": [
        {
          "output_type": "execute_result",
          "data": {
            "text/plain": [
              "[36.79678638308826, -5.571456909457325]"
            ]
          },
          "metadata": {},
          "execution_count": 25
        }
      ],
      "source": [
        "# Cada individuo tiene 2 componentes\n",
        "poblacion[0]"
      ]
    },
    {
      "cell_type": "code",
      "execution_count": 26,
      "id": "8c89e0f0-ae16-4372-aa5e-4b69861a2362",
      "metadata": {
        "id": "8c89e0f0-ae16-4372-aa5e-4b69861a2362",
        "outputId": "c25b0b55-5a1f-4944-ea3f-13117f31ef2d",
        "colab": {
          "base_uri": "https://localhost:8080/"
        }
      },
      "outputs": [
        {
          "output_type": "execute_result",
          "data": {
            "text/plain": [
              "()"
            ]
          },
          "metadata": {},
          "execution_count": 26
        }
      ],
      "source": [
        "poblacion[0].fitness.values"
      ]
    },
    {
      "cell_type": "markdown",
      "id": "7d6f0c8b-5e45-4026-848a-fac81d279f59",
      "metadata": {
        "id": "7d6f0c8b-5e45-4026-848a-fac81d279f59"
      },
      "source": [
        "Respecto al **tamaño de la población**, en este caso, el criterio que seguiremos es que, como mínimo, sea de **un orden de magnitud** superior al **número de variables independientes** y como máximo 2 * ese orden de magnitud. En nuestro caso, hay dos variables independientes (población entre 20 y 40 individuos)"
      ]
    },
    {
      "cell_type": "markdown",
      "id": "a7aa302f-a7f1-413e-9d7e-d56947300264",
      "metadata": {
        "id": "a7aa302f-a7f1-413e-9d7e-d56947300264"
      },
      "source": [
        "#### 2. Función objetivo y operadores genéticos"
      ]
    },
    {
      "cell_type": "markdown",
      "id": "7678a949-a4d8-46c4-916b-3fc36876a626",
      "metadata": {
        "id": "7678a949-a4d8-46c4-916b-3fc36876a626"
      },
      "source": [
        "Ahora crearemos nuestra **función objetivo** y la **registraremos** en nuestro `Toolbox`"
      ]
    },
    {
      "cell_type": "markdown",
      "id": "3ca40492-84cb-4d6a-a231-c33da7eceff3",
      "metadata": {
        "id": "3ca40492-84cb-4d6a-a231-c33da7eceff3"
      },
      "source": [
        "##### 2.1 Función Objetivo"
      ]
    },
    {
      "cell_type": "markdown",
      "id": "eed9e187-fda1-4c12-bc2b-d6f6d45138df",
      "metadata": {
        "id": "eed9e187-fda1-4c12-bc2b-d6f6d45138df"
      },
      "source": [
        "Dividimos funciones objetivo en:\n",
        "* F.O. codificadas en Python: [math](https://docs.python.org/3.6/library/math.html) o [scipy](https://docs.scipy.org/doc/scipy) (en nuestro ejemplo lo haremos así)\n",
        "* F.O. que llaman a un programa externo para obtener el desempeño del individuo, para modelo muy complejos: [módulo nativo os](https://docs.python.org/3/library/os.html) o [módulo subproccess](https://docs.python.org/3.6/library/subprocess.html) (no lo usaremos en nuestro ejemplo)\n"
      ]
    },
    {
      "cell_type": "code",
      "execution_count": 27,
      "id": "23c9f31f-3a4c-4831-aa36-ab80ee46a4e3",
      "metadata": {
        "id": "23c9f31f-3a4c-4831-aa36-ab80ee46a4e3"
      },
      "outputs": [],
      "source": [
        "def funcion_objetivo(x):\n",
        "    \"\"\"\n",
        "    Función objetivo de nuestro problema\n",
        "    \"\"\"\n",
        "    for i in range(len(x)):\n",
        "        if x[i] > 100 or x[i] < -100:\n",
        "            return -1,\n",
        "    res = math.sqrt(x[0]**2 + x[1]**2)\n",
        "    return res,"
      ]
    },
    {
      "cell_type": "markdown",
      "id": "8985c3a6-5566-4aa6-8a1a-fcb65311f7f3",
      "metadata": {
        "id": "8985c3a6-5566-4aa6-8a1a-fcb65311f7f3"
      },
      "source": [
        "Si una solución **no cumple las restricciones** (una de las dos variables independientestoma valores fuera del dominio de la función) debe ser **descartada** (devolvemos -1). A esto se le llama **aplicar la pena de muerte**.\n",
        "\n",
        "Al tratarse de una función de **maximización** las soluciones válidas solo aportarán valores de la función objetivo **positivas** y, por lo tanto, un -1 **penaliza totalmente el resultado**. La **pena de muerte** hace que **un individuo no participe en las operaciones de cruce y mutación** y, por lo tanto, **sus genes no se utilizarán para generar las siguientes generaciones**"
      ]
    },
    {
      "cell_type": "markdown",
      "id": "bd68d93e-9d0f-4b3c-9985-5d86794da64e",
      "metadata": {
        "id": "bd68d93e-9d0f-4b3c-9985-5d86794da64e"
      },
      "source": [
        "Ahora, **registramos la función de fitness**"
      ]
    },
    {
      "cell_type": "code",
      "execution_count": 28,
      "id": "552daa96-2941-4961-93a0-ddce4402643d",
      "metadata": {
        "id": "552daa96-2941-4961-93a0-ddce4402643d"
      },
      "outputs": [],
      "source": [
        "toolbox.register(\"evaluate\", funcion_objetivo)"
      ]
    },
    {
      "cell_type": "code",
      "execution_count": 29,
      "id": "c54ddcce-582d-4f08-8cf3-2d72ffb8091c",
      "metadata": {
        "id": "c54ddcce-582d-4f08-8cf3-2d72ffb8091c",
        "outputId": "5a56c268-1f2c-4e91-be7a-b9ba86d367f1",
        "colab": {
          "base_uri": "https://localhost:8080/"
        }
      },
      "outputs": [
        {
          "output_type": "execute_result",
          "data": {
            "text/plain": [
              "(92.06402390891836,)"
            ]
          },
          "metadata": {},
          "execution_count": 29
        }
      ],
      "source": [
        "# Ejemplo de uso 1\n",
        "funcion_objetivo(individuo)"
      ]
    },
    {
      "cell_type": "code",
      "execution_count": 30,
      "id": "149a0416-d8cc-49ac-813c-a7bfa88ec283",
      "metadata": {
        "id": "149a0416-d8cc-49ac-813c-a7bfa88ec283",
        "outputId": "1dc83b7f-ba2e-4a6f-fdf5-43d37919c276",
        "colab": {
          "base_uri": "https://localhost:8080/"
        }
      },
      "outputs": [
        {
          "output_type": "execute_result",
          "data": {
            "text/plain": [
              "(92.06402390891836,)"
            ]
          },
          "metadata": {},
          "execution_count": 30
        }
      ],
      "source": [
        "# Ejemplo de uso 2\n",
        "toolbox.evaluate(individuo)"
      ]
    },
    {
      "cell_type": "markdown",
      "id": "d44e3a30-5fef-44a1-9708-390385454f5a",
      "metadata": {
        "id": "d44e3a30-5fef-44a1-9708-390385454f5a"
      },
      "source": [
        "No olvidar que la **función fitness devuelve una tupla** ya que la solución es generalista para un problema genérico **multiobjetivo**, aunque en nuestro caso solo sea uno"
      ]
    },
    {
      "cell_type": "markdown",
      "id": "81794642-cb29-43c4-87de-ba16e8d6d5f7",
      "metadata": {
        "id": "81794642-cb29-43c4-87de-ba16e8d6d5f7"
      },
      "source": [
        "**IMPORTANTE!!:** Sed conscientes de la relevancia de **codificar de manera eficiente la función objetivo**. Se ejecutará un gran número de veces y cualquier ahorro de tiempo cuenta. **Evitar bucles** o **condiciones que puedan dejar colgado el algoritmo** (siempre que se pueda)"
      ]
    },
    {
      "cell_type": "markdown",
      "id": "06fe488b-41de-4fdf-ab26-e68cc0357e25",
      "metadata": {
        "id": "06fe488b-41de-4fdf-ab26-e68cc0357e25"
      },
      "source": [
        "#### 3. Incorporar los operadores genéticos"
      ]
    },
    {
      "cell_type": "markdown",
      "id": "c3a2610b-dfbc-48a5-8a27-f03e098aa059",
      "metadata": {
        "id": "c3a2610b-dfbc-48a5-8a27-f03e098aa059"
      },
      "source": [
        "* **Selección**:`selection`. Procedimiento por el cual se seleccionan los individuos que participarán en las operaciones de cruce y mutación. Procedimiento siempre **elitista**: Un individuo tendrá mayor probabilidad de dejar descendencia si su `fitness` es más adecuado al problema de optimización (razonamiento en línea con la teoría evolutiva de Darwin) -> Las probabilidades de dejar descendencia en las futuras generaciones crecen cuando crece la adaptación del individuo al medio. **OJO CON LOS SUPERINDIVIDUOS** \n",
        "* **Cruce**: `mate`. Operación probabilística que permite que dos individuos seleccionados **crucen** o **intercambien** su información genética para crear dos nuevos individuos\n",
        "* **Mutación**: `mutation`. Operación probabilística que permite que un individuo seleccionado **modifique** su información genética para crear un nuevo individuo.\n",
        "\n",
        "Ni para la probabilidad de cruce ni para la de mutación existen valores óptimos que sirva para todos los problemas. Tendrán que ajustarse a cada problema.\n",
        "\n",
        "Destacar que tanto el **cruce** como la **mutación** son el **motor para explorar y explotar zonas del espacio de búsqueda**."
      ]
    },
    {
      "cell_type": "markdown",
      "id": "36b814fd-dcc5-42bb-8646-5b0eb230e207",
      "metadata": {
        "id": "36b814fd-dcc5-42bb-8646-5b0eb230e207"
      },
      "source": [
        "![AGs.png](attachment:45d31de3-d523-4ad0-9e71-d264fd22a4b7.png)"
      ]
    },
    {
      "cell_type": "markdown",
      "id": "b8918b37-1825-49b0-8292-520b000d218f",
      "metadata": {
        "id": "b8918b37-1825-49b0-8292-520b000d218f"
      },
      "source": [
        "La librería `deap` tiene **gran variedad de algoritmos** de **selección**, **mutación** y **cruce**, aunque también nosotros nos podemos crear nuestros propios algoritmos (no lo haremos). La aplicación de cada una de ellas dependerá del problema en cuestión. Para ver cual es la más adecuada para cada caso, consultar [Algoritmos de selección, mutación y cruce de deap](https://deap.readthedocs.io/en/master/api/tools.html?highlight=tools) (algunos sirven cuando se usan variables continuas, otras cuando se usan variables discretas, etc)"
      ]
    },
    {
      "cell_type": "markdown",
      "id": "d3162c7f-e3f7-4a29-b1e6-ebe00ad9602f",
      "metadata": {
        "id": "d3162c7f-e3f7-4a29-b1e6-ebe00ad9602f"
      },
      "source": [
        "![Algoritmos Deap.png](attachment:f85b133f-b0c1-4fff-bd9c-5c8f1b55ff6f.png)"
      ]
    },
    {
      "cell_type": "markdown",
      "id": "a8bf1725-9f72-4e3c-8c9c-58db1933493a",
      "metadata": {
        "id": "a8bf1725-9f72-4e3c-8c9c-58db1933493a"
      },
      "source": [
        "**CRUCE**"
      ]
    },
    {
      "cell_type": "code",
      "execution_count": 31,
      "id": "7f156d3f-8248-4842-ab9a-0aea82a9585e",
      "metadata": {
        "id": "7f156d3f-8248-4842-ab9a-0aea82a9585e"
      },
      "outputs": [],
      "source": [
        "# Registro de operacion genética de cruce\n",
        "toolbox.register(\"mate\", tools.cxOnePoint)"
      ]
    },
    {
      "cell_type": "markdown",
      "id": "87309448-24f8-4ba7-be55-64560df9b8ef",
      "metadata": {
        "id": "87309448-24f8-4ba7-be55-64560df9b8ef"
      },
      "source": [
        "Utilizamos `cxOnePoint(ind1, ind2)` o cruce en un punto que ya conocéis [cxOnePoint](https://deap.readthedocs.io/en/master/api/tools.html#deap.tools.cxOnePoint), selecciona de manera aleatoria un punto (una posición) dentro de los individuos **ind1**, **ind2** para hacer un intercambio entre la información genética de dos individuos (padres) seleccionados"
      ]
    },
    {
      "cell_type": "markdown",
      "id": "60e0045d-db6e-4ef0-ab29-955d2343b517",
      "metadata": {
        "id": "60e0045d-db6e-4ef0-ab29-955d2343b517"
      },
      "source": [
        "En este caso, al ser la longitud de los individuos 2, solo existe un posible punto de cruce (el cruce será simplemente intercambiar los valores de x e y)"
      ]
    },
    {
      "cell_type": "markdown",
      "id": "2c00b9e3-9a8d-44c6-90f8-f365b4530002",
      "metadata": {
        "id": "2c00b9e3-9a8d-44c6-90f8-f365b4530002"
      },
      "source": [
        "**MUTACIÓN**\n",
        "\n",
        "Utilizamos el operador `mutGaussian` (mutación Gaussiana) con una media de 0 y una deviación típica de 5 (son solo de ejemplo y no garantizan ser los más adecuados. Posiblemente habrá que probar valores distintos)"
      ]
    },
    {
      "cell_type": "code",
      "execution_count": 32,
      "id": "52f3f096-a0f6-4d21-bcfb-debbfea4e65e",
      "metadata": {
        "id": "52f3f096-a0f6-4d21-bcfb-debbfea4e65e"
      },
      "outputs": [],
      "source": [
        "toolbox.register(\"mutate\", tools.mutGaussian, mu=0,\n",
        "                 sigma= 5, indpb=0.1)"
      ]
    },
    {
      "cell_type": "markdown",
      "id": "5e1aca47-8f4c-4bfc-8716-beda31ad7668",
      "metadata": {
        "id": "5e1aca47-8f4c-4bfc-8716-beda31ad7668"
      },
      "source": [
        "`MutGaussian(individual, mu, sigma, indpb)` [MutGaussian](https://deap.readthedocs.io/en/master/api/tools.html#deap.tools.mutGaussian) consiste en mutar, con una probabilidad `indpb` cada uno de los genes del individuo `individual`, sumando a cada uno de ellos una cierta cantidad aleatoria. Esta cantidad se genera según una función de probabilidad Gaussiana (o normal), de media `mu` y desviación típica `sigma`"
      ]
    },
    {
      "cell_type": "markdown",
      "id": "9f8aa07a-7b9e-4390-b0b9-61df385eaebb",
      "metadata": {
        "id": "9f8aa07a-7b9e-4390-b0b9-61df385eaebb"
      },
      "source": [
        "![Gauss.png](attachment:3285c96e-9f38-49c1-a707-c8e8da282c0a.png)"
      ]
    },
    {
      "cell_type": "markdown",
      "id": "ba69989b-8b40-44eb-9653-74dac682d687",
      "metadata": {
        "id": "ba69989b-8b40-44eb-9653-74dac682d687"
      },
      "source": [
        "En el caso de la mutación, se deben definir dos probabilidades:\n",
        "* La probabilidad de mutar un individuo (lo veremos más adelante)\n",
        "* La probabilidad  de mutar cada uno de los genes del individuo (`indpb`)\n",
        "Este último valor, en general, debe ser bajo para que la mutación no modifique en exceso al individuo. Valores muy altos de esta probabilidad pueden hacer que el algoritmo no converja correctamente, o que no se intensifiquen ciertas zonas del espacio de búsqueda."
      ]
    },
    {
      "cell_type": "markdown",
      "id": "fec8d27a-f2a3-4b4a-8539-5b369e46870c",
      "metadata": {
        "id": "fec8d27a-f2a3-4b4a-8539-5b369e46870c"
      },
      "source": [
        "**SELECCIÓN**"
      ]
    },
    {
      "cell_type": "code",
      "execution_count": 33,
      "id": "6e71fdc0-26ae-4a0d-90df-c94620196272",
      "metadata": {
        "id": "6e71fdc0-26ae-4a0d-90df-c94620196272"
      },
      "outputs": [],
      "source": [
        "toolbox.register(\"select\", tools.selTournament, tournsize=3)"
      ]
    },
    {
      "cell_type": "markdown",
      "id": "afd02472-145b-428a-9b87-5641c02d812f",
      "metadata": {
        "id": "afd02472-145b-428a-9b87-5641c02d812f"
      },
      "source": [
        "Hemos usado el operador `selTournament(individuals, k, tournsize)` que nos permite realizar una **selección mediante torneo**. En este caso fijamos un tamaño igual a 3. Se ha demostrado que este tamaño funciona relativamente bien para la mayoría de los casos [Lones 2011](https://cs.gmu.edu/~sean/book/metaheuristics/Essentials.pdf)"
      ]
    },
    {
      "cell_type": "markdown",
      "id": "fa27f6c7-1ec0-42c6-a33f-2d666e90a7fc",
      "metadata": {
        "id": "fa27f6c7-1ec0-42c6-a33f-2d666e90a7fc"
      },
      "source": [
        "`selTournament` funciona de la siguiente forma:\n",
        "1. Se selecciona de manera aleatoria un número `tournsize` de individuos de la población `individuals`\n",
        "2.  En cada selección existen reemplazos por lo que un individuo puede ser seleccionado varias veces en un mismo torneo\n",
        "3. Los individuos seleccionados compiten entre ellos para ganar el torneo utilizando el desempeño obtenido por cada uno al evaluar la función de `fitness`\n",
        "4. El individuo con mejor desempeño es el que ganará el torneo, y será quien participe en las operaciones genéticas\n",
        "5. Este proceso se repite hasta seleccionar un total de `k` individuos"
      ]
    },
    {
      "cell_type": "markdown",
      "id": "f58405d1-4577-4522-9567-215b579350f4",
      "metadata": {
        "id": "f58405d1-4577-4522-9567-215b579350f4"
      },
      "source": [
        "![tournament.png](attachment:4b618212-6d43-411c-aabf-cb428cf3876d.png)"
      ]
    },
    {
      "cell_type": "markdown",
      "id": "b979849f-fbc3-40dc-a40f-7d09fdeb1fc4",
      "metadata": {
        "id": "b979849f-fbc3-40dc-a40f-7d09fdeb1fc4"
      },
      "source": [
        "#### 4. Últimos pasos: Algoritmo genético como una caja negra"
      ]
    },
    {
      "cell_type": "code",
      "execution_count": 34,
      "id": "5b035b10-5108-484d-a4c0-cc52fdad7640",
      "metadata": {
        "id": "5b035b10-5108-484d-a4c0-cc52fdad7640"
      },
      "outputs": [],
      "source": [
        "def plot_evolucion(log):\n",
        "    \"\"\"\n",
        "    Representa la evolución del mejor individuo en cada generación\n",
        "    \"\"\"\n",
        "    gen = log.select(\"gen\")\n",
        "    fit_mins = log.select(\"min\")\n",
        "    fit_maxs = log.select(\"max\")\n",
        "    fit_ave = log.select(\"avg\")\n",
        "\n",
        "    fig, ax1 = plt.subplots()\n",
        "    ax1.plot(gen, fit_mins, \"b\")\n",
        "    ax1.plot(gen, fit_maxs, \"r\")\n",
        "    ax1.plot(gen, fit_ave, \"--k\")\n",
        "    ax1.fill_between(gen, fit_mins, fit_maxs,\n",
        "                     where=fit_maxs >= fit_mins, facecolor='g', alpha = 0.2)\n",
        "    ax1.set_xlabel(\"Generation\")\n",
        "    ax1.set_ylabel(\"Fitness\")\n",
        "    ax1.set_ylim([-10, 160])\n",
        "    ax1.legend([\"Min\", \"Max\", \"Avg\"], loc=\"lower center\")\n",
        "    plt.grid(True)\n",
        "    plt.savefig(\"Convergencia.eps\", dpi = 300)"
      ]
    },
    {
      "cell_type": "code",
      "execution_count": 35,
      "id": "8dadb2a6-6214-437d-ae51-3a01b7ae77df",
      "metadata": {
        "id": "8dadb2a6-6214-437d-ae51-3a01b7ae77df"
      },
      "outputs": [],
      "source": [
        "def main():\n",
        "    random.seed(42)\n",
        "    CXPB, MUTPB, NGEN = 0.5, 0.2, 20\n",
        "    pop = toolbox.population()\n",
        "    hof = tools.HallOfFame(1)\n",
        "    stats = tools.Statistics(lambda ind: ind.fitness.values)\n",
        "    stats.register(\"avg\", np.mean)\n",
        "    stats.register(\"std\", np.std)\n",
        "    stats.register(\"min\", np.min)\n",
        "    stats.register(\"max\", np.max)\n",
        "    logbook = tools.Logbook()\n",
        "    pop, logbook = algorithms.eaSimple(pop, toolbox, cxpb=CXPB,\n",
        "                                       mutpb=MUTPB, ngen=NGEN, stats=stats,\n",
        "                                       halloffame=hof, verbose=True)\n",
        "    return hof, logbook"
      ]
    },
    {
      "cell_type": "code",
      "execution_count": 36,
      "id": "35ca1ba8-df59-400c-8839-eeb1cf2e80e0",
      "metadata": {
        "id": "35ca1ba8-df59-400c-8839-eeb1cf2e80e0",
        "outputId": "26453354-99e7-4e53-92df-10d33e91e20d",
        "colab": {
          "base_uri": "https://localhost:8080/",
          "height": 0
        }
      },
      "outputs": [
        {
          "output_type": "stream",
          "name": "stdout",
          "text": [
            "gen\tnevals\tavg    \tstd    \tmin    \tmax    \n",
            "0  \t32    \t77.4361\t25.1119\t26.4289\t116.497\n",
            "1  \t19    \t96.4883\t22.7128\t31.9797\t135.753\n",
            "2  \t27    \t112.689\t17.4287\t66.3743\t139.022\n",
            "3  \t17    \t126.311\t7.47741\t107.958\t139.022\n",
            "4  \t20    \t133.989\t3.86947\t123.191\t139.022\n",
            "5  \t19    \t136.773\t2.2418 \t131.216\t139.022\n",
            "6  \t18    \t138.523\t0.984614\t135.518\t139.022\n",
            "7  \t17    \t139.048\t0.143654\t139.022\t139.847\n",
            "8  \t20    \t138.835\t1.15547 \t132.457\t139.847\n"
          ]
        },
        {
          "output_type": "stream",
          "name": "stderr",
          "text": [
            "<ipython-input-34-a0277e2a9551>:14: MatplotlibDeprecationWarning: The parameter where must have the same size as x in fill_between(). This will become an error in future versions of Matplotlib.\n",
            "  ax1.fill_between(gen, fit_mins, fit_maxs,\n",
            "WARNING:matplotlib.backends.backend_ps:The PostScript backend does not support transparency; partially transparent artists will be rendered opaque.\n"
          ]
        },
        {
          "output_type": "stream",
          "name": "stdout",
          "text": [
            "9  \t13    \t134.645\t24.3715 \t-1     \t139.847\n",
            "10 \t20    \t139.228\t0.357508\t139.022\t139.847\n",
            "11 \t21    \t135.033\t24.4356 \t-1     \t139.847\n",
            "12 \t18    \t139.641\t0.357508\t139.022\t139.847\n",
            "13 \t23    \t139.598\t0.824322\t135.476\t139.847\n",
            "14 \t18    \t135.314\t24.4937 \t-1     \t139.847\n",
            "15 \t18    \t139.847\t0       \t139.847\t139.847\n",
            "16 \t19    \t135.446\t24.5064 \t-1     \t139.847\n",
            "17 \t17    \t139.847\t0       \t139.847\t139.847\n",
            "18 \t28    \t135.277\t24.4941 \t-1     \t139.847\n",
            "19 \t18    \t135.446\t24.5064 \t-1     \t139.847\n",
            "20 \t22    \t130.794\t34.0467 \t-1     \t139.847\n",
            "Mejor fitness: 139.847439\n",
            "Mejor individuo [97.90467012731904, -99.85981097553889]\n"
          ]
        },
        {
          "output_type": "stream",
          "name": "stderr",
          "text": [
            "WARNING:matplotlib.backends.backend_ps:The PostScript backend does not support transparency; partially transparent artists will be rendered opaque.\n",
            "WARNING:matplotlib.backends.backend_ps:The PostScript backend does not support transparency; partially transparent artists will be rendered opaque.\n"
          ]
        },
        {
          "output_type": "display_data",
          "data": {
            "text/plain": [
              "<Figure size 432x288 with 1 Axes>"
            ],
            "image/png": "[encoded data removed]"
          },
          "metadata": {
            "needs_background": "light"
          }
        }
      ],
      "source": [
        "best, log = main()\n",
        "print(\"Mejor fitness: %f\" %best[0].fitness.values)\n",
        "print(\"Mejor individuo %s\" %best[0])\n",
        "plot_evolucion(log)"
      ]
    },
    {
      "cell_type": "code",
      "execution_count": 36,
      "id": "38691dca-570e-4651-a371-f9a92a88057e",
      "metadata": {
        "id": "38691dca-570e-4651-a371-f9a92a88057e"
      },
      "outputs": [],
      "source": []
    },
    {
      "cell_type": "code",
      "execution_count": 36,
      "id": "b93334d5-84f8-48c1-8f41-68b06cbf9749",
      "metadata": {
        "id": "b93334d5-84f8-48c1-8f41-68b06cbf9749"
      },
      "outputs": [],
      "source": []
    }
  ],
  "metadata": {
    "kernelspec": {
      "display_name": "Python 3 (ipykernel)",
      "language": "python",
      "name": "python3"
    },
    "language_info": {
      "codemirror_mode": {
        "name": "ipython",
        "version": 3
      },
      "file_extension": ".py",
      "mimetype": "text/x-python",
      "name": "python",
      "nbconvert_exporter": "python",
      "pygments_lexer": "ipython3",
      "version": "3.9.7"
    },
    "colab": {
      "provenance": []
    },
    "accelerator": "GPU",
    "gpuClass": "standard"
  },
  "nbformat": 4,
  "nbformat_minor": 5
}